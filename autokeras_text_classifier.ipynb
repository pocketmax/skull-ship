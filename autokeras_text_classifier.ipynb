{
  "nbformat": 4,
  "nbformat_minor": 0,
  "metadata": {
    "colab": {
      "provenance": [],
      "machine_shape": "hm",
      "gpuType": "A100",
      "authorship_tag": "ABX9TyOiXgIxwDhkXREdUGRBSygm",
      "include_colab_link": true
    },
    "kernelspec": {
      "name": "python3",
      "display_name": "Python 3"
    },
    "language_info": {
      "name": "python"
    },
    "accelerator": "GPU"
  },
  "cells": [
    {
      "cell_type": "markdown",
      "metadata": {
        "id": "view-in-github",
        "colab_type": "text"
      },
      "source": [
        "<a href=\"https://colab.research.google.com/github/pocketmax/skull-ship/blob/main/autokeras_text_classifier.ipynb\" target=\"_parent\"><img src=\"https://colab.research.google.com/assets/colab-badge.svg\" alt=\"Open In Colab\"/></a>"
      ]
    },
    {
      "cell_type": "markdown",
      "source": [
        "https://autokeras.com/tutorial/text_classification/\n",
        "\n"
      ],
      "metadata": {
        "id": "1lcfczXa68_o"
      }
    },
    {
      "cell_type": "code",
      "execution_count": null,
      "metadata": {
        "id": "2qQUHDQw5Itc",
        "outputId": "106aba96-b54d-425d-b5a8-8b31395e375a",
        "colab": {
          "base_uri": "https://localhost:8080/"
        }
      },
      "outputs": [
        {
          "output_type": "stream",
          "name": "stdout",
          "text": [
            "\u001b[33mWARNING: Running pip as the 'root' user can result in broken permissions and conflicting behaviour with the system package manager. It is recommended to use a virtual environment instead: https://pip.pypa.io/warnings/venv\u001b[0m\u001b[33m\n",
            "\u001b[0m"
          ]
        }
      ],
      "source": [
        "!pip install --upgrade pip\n",
        "!pip install autokeras\n",
        "!nvidia-smi\n",
        "!pip install tensorflow[and-cuda]"
      ]
    },
    {
      "cell_type": "code",
      "source": [
        "import os\n",
        "import numpy as np\n",
        "import tensorflow as tf\n",
        "from sklearn.datasets import load_files\n",
        "import autokeras as ak"
      ],
      "metadata": {
        "colab": {
          "base_uri": "https://localhost:8080/"
        },
        "id": "pVFsjNcQ5QOM",
        "outputId": "e94aaa61-3247-4e53-9bc5-59efc89c8cc8"
      },
      "execution_count": null,
      "outputs": [
        {
          "output_type": "stream",
          "name": "stdout",
          "text": [
            "Using TensorFlow backend\n"
          ]
        }
      ]
    },
    {
      "cell_type": "code",
      "source": [
        "dataset = tf.keras.utils.get_file(\n",
        "    fname=\"aclImdb.tar.gz\",\n",
        "    origin=\"http://ai.stanford.edu/~amaas/data/sentiment/aclImdb_v1.tar.gz\",\n",
        "    extract=True,\n",
        ")\n",
        "IMDB_DATADIR = os.path.join(os.path.dirname(dataset), \"aclImdb\")\n",
        "train_data = load_files(\n",
        "    os.path.join(IMDB_DATADIR, \"train\"), shuffle=True, categories=[\"pos\", \"neg\"]\n",
        ")\n",
        "test_data = load_files(\n",
        "    os.path.join(IMDB_DATADIR, \"test\"), shuffle=False, categories=[\"pos\", \"neg\"]\n",
        ")"
      ],
      "metadata": {
        "id": "Rpe9izFu5bLi"
      },
      "execution_count": null,
      "outputs": []
    },
    {
      "cell_type": "code",
      "source": [
        "# train_data.data is a list\n",
        "skip=6000\n",
        "x_train = np.array(train_data.data[:skip])\n",
        "y_train = np.array(train_data.target[:skip])\n",
        "x_test = np.array(test_data.data[:skip])\n",
        "y_test = np.array(test_data.target[:skip])\n",
        "# test = np.array(test_data.data[:6000])\n",
        "# y_test = np.array(test_data.target) TODO: why was it like this?\n",
        "\n"
      ],
      "metadata": {
        "id": "2NQAE7EdA3h7"
      },
      "execution_count": null,
      "outputs": []
    },
    {
      "cell_type": "code",
      "source": [
        "# TODO: What does max_trials mean?\n",
        "clf = ak.TextClassifier(\n",
        "    overwrite=True,\n",
        "    max_trials=1\n",
        ")\n",
        "clf.fit(x=x_train, y=y_train, epochs=20)\n"
      ],
      "metadata": {
        "id": "b5Rz5kfT5iSM"
      },
      "execution_count": null,
      "outputs": []
    },
    {
      "cell_type": "code",
      "source": [
        "print(clf.evaluate(x=x_test, y=y_test))\n"
      ],
      "metadata": {
        "id": "rK8JEaej9YLV",
        "outputId": "8f6b8d83-ab0e-4137-b7b4-ab337fcb3a1e",
        "colab": {
          "base_uri": "https://localhost:8080/"
        }
      },
      "execution_count": null,
      "outputs": [
        {
          "output_type": "stream",
          "name": "stdout",
          "text": [
            "188/188 [==============================] - 1s 4ms/step - loss: 0.6809 - accuracy: 0.8868\n",
            "[0.6809044480323792, 0.8868333101272583]\n"
          ]
        }
      ]
    },
    {
      "cell_type": "code",
      "source": [
        "clf.predict(np.array([\n",
        "    \"that movie sucked. it didn't have enough special effects\", #0\n",
        "    \"that movie was the best. I loved the acting\", #1\n",
        "    \"it wasn't that good. i hated it totally. I liked some parts but I didn't like the rest\", #0\n",
        "    \"it was a crappy movie by far. it was terrible\" #0\n",
        "]))\n"
      ],
      "metadata": {
        "id": "zzgV_Yzz0yZy",
        "outputId": "a01ed363-cf96-45d6-b348-d889a52761a7",
        "colab": {
          "base_uri": "https://localhost:8080/"
        }
      },
      "execution_count": null,
      "outputs": [
        {
          "output_type": "stream",
          "name": "stdout",
          "text": [
            "1/1 [==============================] - 0s 99ms/step\n",
            "1/1 [==============================] - 0s 7ms/step\n"
          ]
        },
        {
          "output_type": "execute_result",
          "data": {
            "text/plain": [
              "array([[0.],\n",
              "       [1.],\n",
              "       [0.],\n",
              "       [0.]], dtype=float32)"
            ]
          },
          "metadata": {},
          "execution_count": 41
        }
      ]
    }
  ]
}