{
  "nbformat": 4,
  "nbformat_minor": 0,
  "metadata": {
    "colab": {
      "provenance": [],
      "authorship_tag": "ABX9TyOiXgIxwDhkXREdUGRBSygm"
    },
    "kernelspec": {
      "name": "python3",
      "display_name": "Python 3"
    },
    "language_info": {
      "name": "python"
    }
  },
  "cells": [
    {
      "cell_type": "markdown",
      "source": [
        "https://autokeras.com/tutorial/text_classification/\n",
        "\n"
      ],
      "metadata": {
        "id": "1lcfczXa68_o"
      }
    },
    {
      "cell_type": "code",
      "execution_count": null,
      "metadata": {
        "id": "2qQUHDQw5Itc",
        "outputId": "95b08793-0f0d-4bef-d7f6-d50d22823f91",
        "colab": {
          "base_uri": "https://localhost:8080/"
        }
      },
      "outputs": [
        {
          "output_type": "stream",
          "name": "stdout",
          "text": [
            "  Attempting uninstall: tensorflow\n",
            "    Found existing installation: tensorflow 2.15.0\n",
            "    Uninstalling tensorflow-2.15.0:\n",
            "      Successfully uninstalled tensorflow-2.15.0\n",
            "Successfully installed nvidia-cublas-cu12-12.2.5.6 nvidia-cuda-cupti-cu12-12.2.142 nvidia-cuda-nvcc-cu12-12.2.140 nvidia-cuda-nvrtc-cu12-12.2.140 nvidia-cuda-runtime-cu12-12.2.140 nvidia-cudnn-cu12-8.9.4.25 nvidia-cufft-cu12-11.0.8.103 nvidia-curand-cu12-10.3.3.141 nvidia-cusolver-cu12-11.5.2.141 nvidia-cusparse-cu12-12.1.2.141 nvidia-nccl-cu12-2.16.5 nvidia-nvjitlink-cu12-12.2.140 tensorflow-2.15.0.post1\n",
            "\u001b[33mWARNING: Running pip as the 'root' user can result in broken permissions and conflicting behaviour with the system package manager. It is recommended to use a virtual environment instead: https://pip.pypa.io/warnings/venv\u001b[0m\u001b[33m\n",
            "\u001b[0m"
          ]
        }
      ],
      "source": [
        "!pip install --upgrade pip\n",
        "!pip install autokeras\n",
        "!nvidia-smi\n",
        "!pip install tensorflow[and-cuda]"
      ]
    },
    {
      "cell_type": "code",
      "source": [
        "import os\n",
        "import numpy as np\n",
        "import tensorflow as tf\n",
        "from sklearn.datasets import load_files\n",
        "import autokeras as ak"
      ],
      "metadata": {
        "colab": {
          "base_uri": "https://localhost:8080/"
        },
        "id": "pVFsjNcQ5QOM",
        "outputId": "ceb7ce0b-de53-49dd-bddc-6b8955113bc2"
      },
      "execution_count": null,
      "outputs": [
        {
          "output_type": "stream",
          "name": "stdout",
          "text": [
            "Using TensorFlow backend\n"
          ]
        }
      ]
    },
    {
      "cell_type": "code",
      "source": [
        "dataset = tf.keras.utils.get_file(\n",
        "    fname=\"aclImdb.tar.gz\",\n",
        "    origin=\"http://ai.stanford.edu/~amaas/data/sentiment/aclImdb_v1.tar.gz\",\n",
        "    extract=True,\n",
        ")\n",
        "IMDB_DATADIR = os.path.join(os.path.dirname(dataset), \"aclImdb\")\n",
        "train_data = load_files(\n",
        "    os.path.join(IMDB_DATADIR, \"train\"), shuffle=True, categories=[\"pos\", \"neg\"]\n",
        ")\n",
        "test_data = load_files(\n",
        "    os.path.join(IMDB_DATADIR, \"test\"), shuffle=False, categories=[\"pos\", \"neg\"]\n",
        ")"
      ],
      "metadata": {
        "id": "Rpe9izFu5bLi"
      },
      "execution_count": null,
      "outputs": []
    },
    {
      "cell_type": "code",
      "source": [
        "# train_data.data is a list\n",
        "skip=6000\n",
        "x_train = np.array(train_data.data[:skip])\n",
        "y_train = np.array(train_data.target[:skip])\n",
        "x_test = np.array(test_data.data[:skip])\n",
        "y_test = np.array(test_data.target[:skip])\n",
        "# test = np.array(test_data.data[:6000])\n",
        "# y_test = np.array(test_data.target) TODO: why was it like this?\n",
        "\n"
      ],
      "metadata": {
        "id": "2NQAE7EdA3h7"
      },
      "execution_count": null,
      "outputs": []
    },
    {
      "cell_type": "code",
      "source": [
        "# TODO: What does max_trials mean?\n",
        "clf = ak.TextClassifier(\n",
        "    overwrite=True,\n",
        "    max_trials=1\n",
        ")\n",
        "clf.fit(x=x_train, y=y_train, epochs=20)\n"
      ],
      "metadata": {
        "id": "b5Rz5kfT5iSM"
      },
      "execution_count": null,
      "outputs": []
    },
    {
      "cell_type": "code",
      "source": [
        "print(clf.evaluate(x=x_test, y=y_test))\n"
      ],
      "metadata": {
        "id": "rK8JEaej9YLV",
        "outputId": "8f6b8d83-ab0e-4137-b7b4-ab337fcb3a1e",
        "colab": {
          "base_uri": "https://localhost:8080/"
        }
      },
      "execution_count": null,
      "outputs": [
        {
          "output_type": "stream",
          "name": "stdout",
          "text": [
            "188/188 [==============================] - 1s 4ms/step - loss: 0.6809 - accuracy: 0.8868\n",
            "[0.6809044480323792, 0.8868333101272583]\n"
          ]
        }
      ]
    },
    {
      "cell_type": "code",
      "source": [
        "clf.predict(np.array([\n",
        "    \"that movie sucked. it didn't have enough special effects\", #0\n",
        "    \"that movie was the best. I loved the acting\", #1\n",
        "    \"it wasn't that good. i hated it totally. I liked some parts but I didn't like the rest\", #0\n",
        "    \"it was a crappy movie by far. it was terrible\" #0\n",
        "]))\n"
      ],
      "metadata": {
        "id": "zzgV_Yzz0yZy",
        "outputId": "a01ed363-cf96-45d6-b348-d889a52761a7",
        "colab": {
          "base_uri": "https://localhost:8080/"
        }
      },
      "execution_count": null,
      "outputs": [
        {
          "output_type": "stream",
          "name": "stdout",
          "text": [
            "1/1 [==============================] - 0s 99ms/step\n",
            "1/1 [==============================] - 0s 7ms/step\n"
          ]
        },
        {
          "output_type": "execute_result",
          "data": {
            "text/plain": [
              "array([[0.],\n",
              "       [1.],\n",
              "       [0.],\n",
              "       [0.]], dtype=float32)"
            ]
          },
          "metadata": {},
          "execution_count": 41
        }
      ]
    }
  ]
}